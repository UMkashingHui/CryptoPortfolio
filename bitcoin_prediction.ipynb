{
 "cells": [
  {
   "cell_type": "markdown",
   "metadata": {},
   "source": [
    "# 1.Import Files"
   ]
  },
  {
   "cell_type": "code",
   "execution_count": 1,
   "metadata": {},
   "outputs": [
    {
     "name": "stderr",
     "output_type": "stream",
     "text": [
      "Using TensorFlow backend.\n"
     ]
    }
   ],
   "source": [
    "import pandas as pd\n",
    "# set screen\n",
    "pd.set_option('display.max_columns', 1000)\n",
    "pd.set_option('display.width', 1000)\n",
    "pd.set_option('display.max_colwidth', 1000)\n",
    " \n",
    "import matplotlib.pyplot as plt\n",
    "from pandas import read_excel\n",
    "import numpy as np\n",
    "from pandas import DataFrame\n",
    "from pandas import concat\n",
    "from sklearn.preprocessing import MinMaxScaler\n",
    "from keras.models import Sequential\n",
    "from keras.layers import LSTM,Dense,Dropout\n",
    "from numpy import concatenate\n",
    "from sklearn.metrics import mean_squared_error,mean_absolute_error,r2_score\n",
    "from math import sqrt\n",
    "import os\n",
    "import pandas as pd"
   ]
  },
  {
   "cell_type": "markdown",
   "metadata": {},
   "source": [
    "# 2.Load and Clean Data"
   ]
  },
  {
   "cell_type": "code",
   "execution_count": 6,
   "metadata": {},
   "outputs": [
    {
     "name": "stdout",
     "output_type": "stream",
     "text": [
      "                                 price    market_cap        volume  earn_rate\n",
      "date                                                                         \n",
      "2020-03-04 00:00:00+00:00  8756.718577  1.598170e+11  6.833604e+10  -0.016748\n",
      "2020-03-05 00:00:00+00:00  8758.646993  1.598700e+11  3.883207e+10   0.000220\n",
      "2020-03-06 00:00:00+00:00  9038.870323  1.650700e+11  3.812264e+10   0.031994\n",
      "2020-03-07 00:00:00+00:00  9135.845066  1.667910e+11  4.138809e+10   0.010729\n",
      "2020-03-08 00:00:00+00:00  8902.201950  1.625430e+11  3.676476e+10  -0.025574\n"
     ]
    }
   ],
   "source": [
    "# Convert the string to the float\n",
    "def str_to_float(s):\n",
    "    s=s[:-1]\n",
    "    s_float=float(s)\n",
    "    return s_float\n",
    "path=\"\"\n",
    "excelFile = os.path.join(path,'btc-usd-max.csv')\n",
    "\n",
    "stock_data = pd.read_csv(excelFile,parse_dates=['Date'],index_col='Date')\n",
    "# Read excel file, transfer the 'date' column to Datetime format and set it to the index\n",
    "stock_data.columns=['price','market_cap','volume']\n",
    "stock_data.index.name='date' # set the date column to the index column\n",
    "# Sort the data according to the datetime\n",
    "stock_data=stock_data.sort_values(by='date')\n",
    "# Add a column named 'earn_rate'\n",
    "stock_data['earn_rate'] = stock_data['price'].pct_change()\n",
    "# Fill the missing value\n",
    "stock_data['earn_rate'].fillna(method='bfill',inplace=True)\n",
    "\n",
    "stock_data = stock_data.iloc[2500:2926]\n",
    "print(stock_data.head())"
   ]
  },
  {
   "cell_type": "markdown",
   "metadata": {},
   "source": [
    "### Nomalization"
   ]
  },
  {
   "cell_type": "code",
   "execution_count": 7,
   "metadata": {},
   "outputs": [
    {
     "name": "stdout",
     "output_type": "stream",
     "text": [
      "[[0.06361379 0.06192337 0.32307675 0.6156715 ]\n",
      " [0.06364674 0.06197172 0.14243007 0.6468422 ]\n",
      " [0.06843326 0.06671722 0.13808635 0.70520973]\n",
      " ...\n",
      " [0.9018149  0.9041594  0.23455957 0.791479  ]\n",
      " [0.9015494  0.9024985  0.17387062 0.64594394]\n",
      " [0.8808433  0.88146317 0.1439032  0.6079198 ]]\n"
     ]
    }
   ],
   "source": [
    "# Gain the values of the stock_data, format:array\n",
    "values=stock_data.values\n",
    "# Ensure all the data type is float32\n",
    "values=values.astype('float32')\n",
    "# Normalization of features\n",
    "scaler = MinMaxScaler(feature_range=(0, 1))\n",
    "scaled = scaler.fit_transform(values)\n",
    "print(scaled)"
   ]
  },
  {
   "cell_type": "markdown",
   "metadata": {},
   "source": [
    "### Supervised Function"
   ]
  },
  {
   "cell_type": "code",
   "execution_count": 8,
   "metadata": {},
   "outputs": [],
   "source": [
    "# Transfer the problem into supervised problem\n",
    "def series_to_supervised(data, n_in=1, n_out=1, dropnan=True):\n",
    "    \"\"\"\n",
    "    Frame a time series as a supervised learning dataset.\n",
    "    Arguments:\n",
    "        data: Sequence of observations as a list or NumPy array.\n",
    "        n_in: Number of lag observations as input (X).\n",
    "        n_out: Number of observations as output (y).\n",
    "        dropnan: Boolean whether or not to drop rows with NaN values.\n",
    "    Returns:\n",
    "        Pandas DataFrame of series framed for supervised learning.\n",
    "    \"\"\"\n",
    "    n_vars = 1 if type(data) is list else data.shape[1]\n",
    "    df = DataFrame(data)\n",
    "    cols, names = list(), list()\n",
    "    # input sequence (t-n, ... t-1)\n",
    "    for i in range(n_in, 0, -1):\n",
    "        cols.append(df.shift(i))\n",
    "        names += [('var%d(t-%d)' % (j+1, i)) for j in range(n_vars)]\n",
    "    # forecast sequence (t, t+1, ... t+n)\n",
    "    for i in range(0, n_out):\n",
    "        cols.append(df.shift(-i))\n",
    "        if i == 0:\n",
    "            names += [('var%d(t)' % (j+1)) for j in range(n_vars)]\n",
    "        else:\n",
    "            names += [('var%d(t+%d)' % (j+1, i)) for j in range(n_vars)]\n",
    "    # put it all together\n",
    "    agg = concat(cols, axis=1)\n",
    "    agg.columns = names\n",
    "    # drop rows with NaN values\n",
    "    if dropnan:\n",
    "        agg.dropna(inplace=True)\n",
    "    return agg"
   ]
  },
  {
   "cell_type": "code",
   "execution_count": 9,
   "metadata": {},
   "outputs": [
    {
     "name": "stdout",
     "output_type": "stream",
     "text": [
      "     var1(t-1)  var2(t-1)  var3(t-1)  var4(t-1)   var1(t)   var2(t)   var3(t)   var4(t)\n",
      "1     0.063614   0.061923   0.323077   0.615672  0.063647  0.061972  0.142430  0.646842\n",
      "2     0.063647   0.061972   0.142430   0.646842  0.068433  0.066717  0.138086  0.705210\n",
      "3     0.068433   0.066717   0.138086   0.705210  0.070090  0.068288  0.158080  0.666146\n",
      "4     0.070090   0.068288   0.158080   0.666146  0.066099  0.064411  0.129772  0.599458\n",
      "5     0.066099   0.064411   0.129772   0.599458  0.051395  0.050297  0.144268  0.468803\n",
      "..         ...        ...        ...        ...       ...       ...       ...       ...\n",
      "421   0.853361   0.853875   0.201432   0.680912  0.850266  0.851147  0.199010  0.640385\n",
      "422   0.850266   0.851147   0.199010   0.640385  0.829531  0.830467  0.192184  0.605753\n",
      "423   0.829531   0.830467   0.192184   0.605753  0.901815  0.904159  0.234560  0.791479\n",
      "424   0.901815   0.904159   0.234560   0.791479  0.901549  0.902498  0.173871  0.645944\n",
      "425   0.901549   0.902498   0.173871   0.645944  0.880843  0.881463  0.143903  0.607920\n",
      "\n",
      "[425 rows x 8 columns]\n",
      "   var1(t-1)  var2(t-1)  var3(t-1)  var4(t-1)   var4(t)\n",
      "1   0.063614   0.061923   0.323077   0.615672  0.646842\n",
      "2   0.063647   0.061972   0.142430   0.646842  0.705210\n",
      "3   0.068433   0.066717   0.138086   0.705210  0.666146\n",
      "4   0.070090   0.068288   0.158080   0.666146  0.599458\n",
      "5   0.066099   0.064411   0.129772   0.599458  0.468803\n"
     ]
    }
   ],
   "source": [
    "reframed = series_to_supervised(scaled, 1, 1)\n",
    "print(reframed)\n",
    "# delete the columns exclude 'earn_rate'\n",
    "reframed.drop(reframed.columns[[4,5,6]], axis=1, inplace=True)\n",
    "print(reframed.head())"
   ]
  },
  {
   "cell_type": "markdown",
   "metadata": {},
   "source": [
    "# 3.Split Data Set"
   ]
  },
  {
   "cell_type": "code",
   "execution_count": 16,
   "metadata": {},
   "outputs": [
    {
     "name": "stdout",
     "output_type": "stream",
     "text": [
      "(318, 1, 4) (318,)\n",
      "(107, 1, 4) (107,)\n"
     ]
    }
   ],
   "source": [
    "# split the data into train set and test set\n",
    "split_size = 0.75\n",
    "values = reframed.values\n",
    "#train = np.concatenate([values[:len(values)*split_size, :],values[488:,:]])\n",
    "split_position = int(len(values)*split_size)\n",
    "train = values[:split_position, :]\n",
    "test = values[split_position:len(values), :]\n",
    "# split the input data and label from train set and test set\n",
    "train_X, train_y = train[:, :-1], train[:, -1]\n",
    "test_X, test_y = test[:, :-1], test[:, -1]\n",
    "# reshape input to be 3D [samples, timesteps, features]\n",
    "train_X = train_X.reshape((train_X.shape[0], 1, train_X.shape[1]))\n",
    "test_X = test_X.reshape((test_X.shape[0], 1, test_X.shape[1]))\n",
    "print(train_X.shape, train_y.shape)\n",
    "print(test_X.shape, test_y.shape)"
   ]
  },
  {
   "cell_type": "markdown",
   "metadata": {},
   "source": [
    "# 4.Build Machine Learning Model"
   ]
  },
  {
   "cell_type": "code",
   "execution_count": 17,
   "metadata": {},
   "outputs": [
    {
     "name": "stdout",
     "output_type": "stream",
     "text": [
      "Train on 318 samples, validate on 107 samples\n",
      "Epoch 1/50\n",
      " - 1s - loss: 0.6411 - val_loss: 0.5840\n",
      "Epoch 2/50\n",
      " - 0s - loss: 0.6172 - val_loss: 0.5427\n",
      "Epoch 3/50\n",
      " - 0s - loss: 0.5919 - val_loss: 0.4998\n",
      "Epoch 4/50\n",
      " - 0s - loss: 0.5618 - val_loss: 0.4556\n",
      "Epoch 5/50\n",
      " - 0s - loss: 0.5306 - val_loss: 0.4098\n",
      "Epoch 6/50\n",
      " - 0s - loss: 0.5013 - val_loss: 0.3621\n",
      "Epoch 7/50\n",
      " - 0s - loss: 0.4679 - val_loss: 0.3121\n",
      "Epoch 8/50\n",
      " - 0s - loss: 0.4389 - val_loss: 0.2597\n",
      "Epoch 9/50\n",
      " - 0s - loss: 0.3999 - val_loss: 0.2047\n",
      "Epoch 10/50\n",
      " - 0s - loss: 0.3706 - val_loss: 0.1492\n",
      "Epoch 11/50\n",
      " - 0s - loss: 0.3376 - val_loss: 0.1027\n",
      "Epoch 12/50\n",
      " - 0s - loss: 0.2969 - val_loss: 0.0855\n",
      "Epoch 13/50\n",
      " - 0s - loss: 0.2590 - val_loss: 0.1008\n",
      "Epoch 14/50\n",
      " - 0s - loss: 0.2227 - val_loss: 0.1342\n",
      "Epoch 15/50\n",
      " - 0s - loss: 0.1905 - val_loss: 0.1765\n",
      "Epoch 16/50\n",
      " - 0s - loss: 0.1607 - val_loss: 0.2208\n",
      "Epoch 17/50\n",
      " - 0s - loss: 0.1364 - val_loss: 0.2583\n",
      "Epoch 18/50\n",
      " - 0s - loss: 0.1175 - val_loss: 0.2893\n",
      "Epoch 19/50\n",
      " - 0s - loss: 0.1106 - val_loss: 0.3082\n",
      "Epoch 20/50\n",
      " - 0s - loss: 0.1061 - val_loss: 0.3139\n",
      "Epoch 21/50\n",
      " - 0s - loss: 0.1000 - val_loss: 0.3111\n",
      "Epoch 22/50\n",
      " - 0s - loss: 0.0963 - val_loss: 0.3002\n",
      "Epoch 23/50\n",
      " - 0s - loss: 0.0934 - val_loss: 0.2830\n",
      "Epoch 24/50\n",
      " - 0s - loss: 0.0984 - val_loss: 0.2660\n",
      "Epoch 25/50\n",
      " - 0s - loss: 0.0990 - val_loss: 0.2501\n",
      "Epoch 26/50\n",
      " - 0s - loss: 0.0963 - val_loss: 0.2359\n",
      "Epoch 27/50\n",
      " - 0s - loss: 0.0918 - val_loss: 0.2267\n",
      "Epoch 28/50\n",
      " - 0s - loss: 0.1039 - val_loss: 0.2223\n",
      "Epoch 29/50\n",
      " - 0s - loss: 0.0913 - val_loss: 0.2189\n",
      "Epoch 30/50\n",
      " - 0s - loss: 0.0913 - val_loss: 0.2115\n",
      "Epoch 31/50\n",
      " - 0s - loss: 0.0919 - val_loss: 0.2046\n",
      "Epoch 32/50\n",
      " - 0s - loss: 0.0986 - val_loss: 0.1974\n",
      "Epoch 33/50\n",
      " - 0s - loss: 0.0918 - val_loss: 0.1892\n",
      "Epoch 34/50\n",
      " - 0s - loss: 0.0958 - val_loss: 0.1772\n",
      "Epoch 35/50\n",
      " - 0s - loss: 0.0909 - val_loss: 0.1673\n",
      "Epoch 36/50\n",
      " - 0s - loss: 0.0949 - val_loss: 0.1607\n",
      "Epoch 37/50\n",
      " - 0s - loss: 0.0901 - val_loss: 0.1565\n",
      "Epoch 38/50\n",
      " - 0s - loss: 0.0926 - val_loss: 0.1548\n",
      "Epoch 39/50\n",
      " - 0s - loss: 0.0905 - val_loss: 0.1497\n",
      "Epoch 40/50\n",
      " - 0s - loss: 0.0930 - val_loss: 0.1416\n",
      "Epoch 41/50\n",
      " - 0s - loss: 0.0859 - val_loss: 0.1338\n",
      "Epoch 42/50\n",
      " - 0s - loss: 0.0960 - val_loss: 0.1282\n",
      "Epoch 43/50\n",
      " - 0s - loss: 0.0896 - val_loss: 0.1215\n",
      "Epoch 44/50\n",
      " - 0s - loss: 0.0901 - val_loss: 0.1158\n",
      "Epoch 45/50\n",
      " - 0s - loss: 0.0865 - val_loss: 0.1132\n",
      "Epoch 46/50\n",
      " - 0s - loss: 0.0879 - val_loss: 0.1116\n",
      "Epoch 47/50\n",
      " - 0s - loss: 0.0828 - val_loss: 0.1087\n",
      "Epoch 48/50\n",
      " - 0s - loss: 0.0897 - val_loss: 0.1044\n",
      "Epoch 49/50\n",
      " - 0s - loss: 0.0867 - val_loss: 0.0993\n",
      "Epoch 50/50\n",
      " - 0s - loss: 0.0827 - val_loss: 0.0941\n"
     ]
    },
    {
     "data": {
      "image/png": "[encoded data removed]",
      "text/plain": [
       "<Figure size 432x288 with 1 Axes>"
      ]
     },
     "metadata": {
      "needs_background": "light"
     },
     "output_type": "display_data"
    }
   ],
   "source": [
    "# Build LSTM model \n",
    "model = Sequential()\n",
    "model.add(LSTM(64, input_shape=(train_X.shape[1], train_X.shape[2])))\n",
    "model.add(Dropout(0.5))\n",
    "\n",
    "model.add(Dense(1,activation='relu'))\n",
    "model.compile(loss='mae', optimizer='adam')\n",
    "\n",
    "\n",
    "# fit network\n",
    "history = model.fit(train_X, train_y, epochs=50, batch_size=100, validation_data=(test_X, test_y), verbose=2,shuffle=False)\n",
    "model.save('lstm_model.h5')\n",
    "# paint the loss picture\n",
    "plt.plot(history.history['loss'], label='train')\n",
    "plt.plot(history.history['val_loss'], label='test')\n",
    "plt.title('LSTM_S&P500', fontsize='12')\n",
    "plt.ylabel('loss', fontsize='10')\n",
    "plt.xlabel('epoch', fontsize='10')\n",
    "plt.legend()\n",
    "plt.show()"
   ]
  },
  {
   "cell_type": "markdown",
   "metadata": {},
   "source": [
    "# 5.BackTest"
   ]
  },
  {
   "cell_type": "code",
   "execution_count": 18,
   "metadata": {},
   "outputs": [
    {
     "name": "stdout",
     "output_type": "stream",
     "text": [
      "(107, 1, 4)\n",
      "[0.9015494  0.9024985  0.17387062 0.64594394]\n",
      "Prediction value after nomalization: [-0.00045127  0.01665523  0.01737984  0.03091282  0.01710164  0.01562192\n",
      " -0.03291591  0.04040574  0.00774324  0.02006185  0.01845371  0.020032\n",
      " -0.00872938  0.05004253  0.02682961  0.02002558  0.00686438  0.02243127\n",
      "  0.04367102  0.04411659  0.01615821  0.03621636  0.03754332  0.02111457\n",
      "  0.10112792  0.03467065  0.01823035  0.05890974  0.03190921  0.03137993\n",
      "  0.04948022  0.03043922  0.04703404  0.06124879  0.03757823  0.07420797\n",
      "  0.0464799   0.05525049  0.01988002 -0.00550939  0.04555659  0.01419074\n",
      "  0.02970663  0.03573374  0.01936599  0.07625746  0.02802152  0.05409836\n",
      "  0.02363298  0.03998166  0.03802886  0.05753827  0.0485048   0.06013086\n",
      "  0.05363709  0.05823283  0.04413177  0.07545712  0.03919994  0.02283816\n",
      "  0.05253726  0.06218217  0.04101133  0.05040581  0.04923311  0.04250319\n",
      "  0.02365745  0.04499785  0.02689943  0.03214217  0.06970341  0.0512177\n",
      "  0.04506755  0.05958075  0.05529974  0.04960274  0.04884134  0.05094339\n",
      "  0.03510667  0.05616537  0.05171278  0.04364279  0.03314557  0.06074502\n",
      "  0.04932402  0.06077448  0.05086429  0.04958613  0.07478611  0.0471744\n",
      "  0.05547437  0.04008315  0.0428041   0.01885352  0.04101289  0.04883297\n",
      "  0.03021196  0.02461944  0.0319327   0.03191492  0.02995167  0.0795709\n",
      "  0.05172407  0.04367673  0.03562875  0.07620003  0.0484915 ]\n",
      "True value after nomalization: [-1.44833848e-02 -1.24245835e-02  2.20979434e-02 -1.34060439e-02\n",
      " -1.43297799e-02 -1.31332472e-01  6.61264360e-02 -2.69987229e-02\n",
      "  6.40606554e-03  3.15437838e-03  6.38724631e-03 -6.55753538e-02\n",
      "  8.81187618e-02  3.08639519e-02  1.42605056e-03 -3.31798010e-02\n",
      "  1.03192525e-02  6.22641593e-02  5.66063225e-02 -1.80881284e-02\n",
      "  3.23584341e-02  3.34557630e-02 -1.13563919e-02  1.92469522e-01\n",
      "  5.65760816e-03 -3.69527191e-02  6.61617666e-02 -8.40253662e-03\n",
      " -9.97369085e-03  3.55035663e-02 -1.45940948e-02  2.79685352e-02\n",
      "  5.90100065e-02 -7.87445996e-03  8.32282379e-02  6.04771962e-03\n",
      "  2.29110364e-02 -5.65022975e-02 -1.05107002e-01  2.37715971e-02\n",
      " -5.73068894e-02 -9.38824750e-03  2.19196454e-03 -3.60822268e-02\n",
      "  1.07119404e-01 -2.52092965e-02  4.21414971e-02 -3.65776941e-02\n",
      "  7.47759920e-03 -1.47572707e-03  4.67922054e-02  1.97891686e-02\n",
      "  4.53239754e-02  2.41354275e-02  3.15666609e-02 -7.52750272e-03\n",
      "  6.90683499e-02 -3.07628475e-02 -6.09742887e-02  1.83660705e-02\n",
      "  3.84420715e-02 -1.85125377e-02  5.53950062e-03  2.28161598e-03\n",
      " -1.37490742e-02 -5.56401759e-02  3.94946244e-03 -3.77028286e-02\n",
      " -2.11312473e-02  7.03307986e-02  1.45243006e-02 -1.86840200e-03\n",
      "  3.42166163e-02  1.79353040e-02  2.53535248e-03 -2.75086612e-04\n",
      "  4.40180767e-03 -3.38574238e-02  2.04764642e-02  8.20921641e-03\n",
      " -1.09806219e-02 -3.32016684e-02  3.44036072e-02  1.50431297e-03\n",
      "  3.14067937e-02  1.43838042e-04 -1.28360779e-03  6.11849986e-02\n",
      " -1.21043306e-02  5.93324658e-03 -2.66299285e-02 -1.98941026e-02\n",
      " -6.61135837e-02 -1.00868661e-02  1.02934567e-02 -3.73864062e-02\n",
      " -4.10500430e-02 -1.49029912e-02 -2.06679665e-02 -2.29721665e-02\n",
      "  1.02025658e-01  1.87667925e-02 -3.29506909e-03 -2.21473593e-02\n",
      "  7.89564773e-02 -2.68759439e-04 -2.09680367e-02]\n"
     ]
    }
   ],
   "source": [
    "# Predict the earn_rate\n",
    "print(test_X.shape)\n",
    "y_predict = model.predict(test_X)\n",
    "test_X = test_X.reshape((test_X.shape[0], test_X.shape[2]))\n",
    "# Invert scaling for forecast\n",
    "inv_y_test = concatenate((test_X[:, :test_X.shape[1]-1],y_predict), axis=1)\n",
    "inv_y_test = scaler.inverse_transform(inv_y_test)\n",
    "inv_y_predict=inv_y_test[:,-1]\n",
    " \n",
    "X = test_X[-1]\n",
    "print(X)\n",
    "# Invert scaling for actual\n",
    "test_y = test_y.reshape((len(test_y), 1))\n",
    "inv_y_train = concatenate((test_X[:, :test_X.shape[1]-1],test_y), axis=1)\n",
    "inv_y_train = scaler.inverse_transform(inv_y_train)\n",
    "inv_y = inv_y_train[:, -1]\n",
    "print('Prediction value after nomalization:',inv_y_predict)\n",
    "print('True value after nomalization:',inv_y)"
   ]
  },
  {
   "cell_type": "code",
   "execution_count": 21,
   "metadata": {
    "scrolled": true
   },
   "outputs": [
    {
     "data": {
      "image/png": "[encoded data removed]",
      "text/plain": [
       "<Figure size 432x288 with 1 Axes>"
      ]
     },
     "metadata": {
      "needs_background": "light"
     },
     "output_type": "display_data"
    }
   ],
   "source": [
    "plt.plot(inv_y,color='red',label='Original')\n",
    "plt.plot(inv_y_predict,color='green',label='Predict')\n",
    "plt.xlabel('test data')\n",
    "plt.ylabel('earn_rate')\n",
    "plt.title('Bitcoin: 2021-01-06 - 2021-05-03')\n",
    "plt.legend()\n",
    "plt.show()"
   ]
  },
  {
   "cell_type": "code",
   "execution_count": 10,
   "metadata": {},
   "outputs": [
    {
     "name": "stdout",
     "output_type": "stream",
     "text": [
      "mse: 0.000238\n",
      "rmse: 0.015433\n",
      "mae: 0.012912\n",
      "R_square: -3.575964\n"
     ]
    }
   ],
   "source": [
    "# Calculate MSE \n",
    "mse=mean_squared_error(inv_y,inv_y_predict)\n",
    "# Calculate RMSE \n",
    "rmse = sqrt(mean_squared_error(inv_y, inv_y_predict))\n",
    "# Calculate MAE \n",
    "mae=mean_absolute_error(inv_y,inv_y_predict)\n",
    "# Calculate R square\n",
    "r_square=r2_score(inv_y,inv_y_predict)\n",
    "print('mse: %.6f' % mse)\n",
    "print('rmse: %.6f' % rmse)\n",
    "print('mae: %.6f' % mae)\n",
    "print('R_square: %.6f' % r_square)"
   ]
  },
  {
   "cell_type": "markdown",
   "metadata": {},
   "source": [
    "# 6.Predict the earn_rate of Next Day"
   ]
  },
  {
   "cell_type": "code",
   "execution_count": 11,
   "metadata": {
    "scrolled": true
   },
   "outputs": [
    {
     "name": "stdout",
     "output_type": "stream",
     "text": [
      "S&P500 index quote rate of next day [0.01607243]\n"
     ]
    }
   ],
   "source": [
    "X = X.reshape((1,1,7))\n",
    "from keras.models import load_model\n",
    "# Load model from single model file\n",
    "model = load_model('lstm_model.h5')\n",
    "# Predict the earn_rate\n",
    "y_predict2 = model.predict(X)\n",
    "X = X.reshape((1,7))\n",
    "# Invert scaling for forecast\n",
    "inv_y_test2 = concatenate((X[:, :6],y_predict2), axis=1)\n",
    "inv_y_test2 = scaler.inverse_transform(inv_y_test2)\n",
    "inv_y_predict2=inv_y_test2[:,-1]\n",
    "print('S&P500 index quote rate of next day',inv_y_predict2)"
   ]
  },
  {
   "cell_type": "code",
   "execution_count": null,
   "metadata": {},
   "outputs": [],
   "source": []
  },
  {
   "cell_type": "code",
   "execution_count": null,
   "metadata": {},
   "outputs": [],
   "source": []
  }
 ],
 "metadata": {
  "kernelspec": {
   "display_name": "Python 3",
   "language": "python",
   "name": "python3"
  },
  "language_info": {
   "codemirror_mode": {
    "name": "ipython",
    "version": 3
   },
   "file_extension": ".py",
   "mimetype": "text/x-python",
   "name": "python",
   "nbconvert_exporter": "python",
   "pygments_lexer": "ipython3",
   "version": "3.8.5"
  }
 },
 "nbformat": 4,
 "nbformat_minor": 4
}
